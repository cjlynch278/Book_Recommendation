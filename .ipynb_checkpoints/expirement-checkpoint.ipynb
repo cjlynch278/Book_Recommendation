{
 "cells": [
  {
   "cell_type": "code",
   "execution_count": null,
   "id": "b305f929-3837-4ce9-b878-9c8926079071",
   "metadata": {},
   "outputs": [],
   "source": [
    "# Recalculate user_vectors and figure out why get_vector_distance returns 0"
   ]
  },
  {
   "cell_type": "code",
   "execution_count": null,
   "id": "0b7a1f8f-c314-490f-b07a-6f8622b22a45",
   "metadata": {},
   "outputs": [],
   "source": []
  },
  {
   "cell_type": "code",
   "execution_count": null,
   "id": "de511eba-da3a-4c1f-ac23-1f3595ff6d28",
   "metadata": {},
   "outputs": [],
   "source": []
  },
  {
   "cell_type": "code",
   "execution_count": null,
   "id": "4fcc5ec4-89ad-4c2d-be0c-b313dd9227ec",
   "metadata": {},
   "outputs": [],
   "source": []
  },
  {
   "cell_type": "code",
   "execution_count": null,
   "id": "cca4f400-5975-42e6-81f7-80d91bf39716",
   "metadata": {},
   "outputs": [],
   "source": []
  },
  {
   "cell_type": "code",
   "execution_count": null,
   "id": "428c332e-cfd2-4570-8d86-ec95ceffacd6",
   "metadata": {},
   "outputs": [],
   "source": []
  },
  {
   "cell_type": "code",
   "execution_count": null,
   "id": "511fc049-d798-4301-8947-e6ef4dd8414a",
   "metadata": {},
   "outputs": [],
   "source": []
  },
  {
   "cell_type": "markdown",
   "id": "a4e0fd64-8f1b-452c-8336-f5fab3a6634e",
   "metadata": {},
   "source": [
    "## Playground"
   ]
  },
  {
   "cell_type": "markdown",
   "id": "83274d61-2b10-4ec5-bf39-3acfb3e204d4",
   "metadata": {},
   "source": [
    "#### Setup"
   ]
  },
  {
   "cell_type": "code",
   "execution_count": null,
   "id": "94a88d8d-6072-4e41-a93f-52e3f7d8473f",
   "metadata": {},
   "outputs": [],
   "source": [
    "import pandas as pd\n",
    "from src.vectorization import Vectorization\n",
    "from src.user_operations import UserOperations\n",
    "from src.vectorization import Vectorization\n",
    "from src.recommendation import Recommendation\n",
    "\n",
    "user_operations = UserOperations()\n",
    "vectorization = Vectorization()\n",
    "recommendation = Recommendation(vectorization)\n",
    "from src.user_operations import UserOperations\n",
    "user_ops = UserOperations()\n",
    "vectorization = Vectorization()\n"
   ]
  },
  {
   "cell_type": "code",
   "execution_count": null,
   "id": "1f774419-c293-453f-b111-700bc3331f8a",
   "metadata": {},
   "outputs": [],
   "source": [
    "user_ops"
   ]
  },
  {
   "cell_type": "markdown",
   "id": "9f38a6d4-f55b-49c8-90a0-59096e0c3696",
   "metadata": {},
   "source": [
    "#### Reset Vectors for all books, this is due to the fact that max features was not previously set to 20, really we want to set featrues strictly to 20, so that we  can always preform vector operations on the vectors so that theyre compatible"
   ]
  },
  {
   "cell_type": "code",
   "execution_count": null,
   "id": "9a6b25d9-08ee-41dd-982c-43ead821a9fa",
   "metadata": {},
   "outputs": [],
   "source": [
    "books = user_operations.get_all_books()\n",
    "vectorization.vectorize_initial_text(books)"
   ]
  },
  {
   "cell_type": "markdown",
   "id": "71e6a972-02c0-4d03-b1e7-8cf3a7133c33",
   "metadata": {},
   "source": [
    "#### Similarly as above, we want to reset all *user* vectors to 20 features. This is done below for user 1, but will need to be perfromed for all users."
   ]
  },
  {
   "cell_type": "code",
   "execution_count": null,
   "id": "7d19ddc2-4ec6-474e-b9bc-8ad143c8b470",
   "metadata": {},
   "outputs": [],
   "source": [
    "book_1_vector = user_ops.get_book_vector_by_id(1)"
   ]
  },
  {
   "cell_type": "code",
   "execution_count": null,
   "id": "269286da-8a31-41ec-9c7e-3a8884370264",
   "metadata": {},
   "outputs": [],
   "source": [
    "user_ops.update_user_vector_by_id(1,book_1_vector)\n"
   ]
  },
  {
   "cell_type": "code",
   "execution_count": null,
   "id": "57492251-1ce3-4268-a428-22157366c248",
   "metadata": {},
   "outputs": [],
   "source": [
    "user_ops.get_vector_by_user_id(1)"
   ]
  },
  {
   "cell_type": "code",
   "execution_count": null,
   "id": "3c6cb6e9-517a-4024-b9a5-3d0043a5c1ca",
   "metadata": {},
   "outputs": [],
   "source": [
    "user_ops.get_vector_by_user_id(1).shape"
   ]
  },
  {
   "cell_type": "markdown",
   "id": "59909167-f9ee-4323-be6e-284a7bcf91e8",
   "metadata": {},
   "source": [
    "### Lets make the user vector alwayss recalculate when another book is tracked"
   ]
  },
  {
   "cell_type": "code",
   "execution_count": null,
   "id": "27b11aa7-ec9a-4647-af42-704d89d60922",
   "metadata": {},
   "outputs": [],
   "source": [
    "# This is erroneus, book 5 doesn't exit\n",
    "user_ops.track_book_reading(1,5)\n"
   ]
  },
  {
   "cell_type": "code",
   "execution_count": null,
   "id": "aaf1b996-b920-45b4-a769-6fa7a0b0cb41",
   "metadata": {},
   "outputs": [],
   "source": [
    "vectorization.recalculate_user_vector(1,2)"
   ]
  },
  {
   "cell_type": "code",
   "execution_count": null,
   "id": "b53722f1-2b7f-423c-8ad4-0e6314356e70",
   "metadata": {},
   "outputs": [],
   "source": []
  },
  {
   "cell_type": "code",
   "execution_count": null,
   "id": "f97a029c-fbed-49a0-a9e4-21f6a4e8a62c",
   "metadata": {},
   "outputs": [],
   "source": []
  },
  {
   "cell_type": "code",
   "execution_count": null,
   "id": "1bc7b542-a99c-4820-8636-15305170cc7f",
   "metadata": {},
   "outputs": [],
   "source": []
  },
  {
   "cell_type": "code",
   "execution_count": null,
   "id": "2a16a74d-b6f7-4ff8-ace4-c6b41c2943c7",
   "metadata": {},
   "outputs": [],
   "source": []
  },
  {
   "cell_type": "markdown",
   "id": "3e204459-53b1-4641-ab83-dbcc6196e676",
   "metadata": {},
   "source": []
  },
  {
   "cell_type": "code",
   "execution_count": null,
   "id": "071db4b3-6459-4a6d-8153-0c0923351adc",
   "metadata": {},
   "outputs": [],
   "source": [
    "import pandas as pd\n",
    "from src.vectorization import Vectorization\n",
    "from src.user_operations import UserOperations\n",
    "from src.vectorization import Vectorization\n",
    "from src.recommendation import Recommendation\n",
    "\n",
    "user_operations = UserOperations()\n",
    "vectorization = Vectorization()\n",
    "recommendation = Recommendation(vectorization)\n",
    "from src.user_operations import UserOperations\n",
    "user_ops = UserOperations()\n",
    "vectorization = Vectorization()\n",
    "\n",
    "\n"
   ]
  },
  {
   "cell_type": "code",
   "execution_count": null,
   "id": "e8db2888-0623-40fb-a96f-6d60ee4d847b",
   "metadata": {},
   "outputs": [],
   "source": [
    "user_ops.get_all_books()"
   ]
  },
  {
   "cell_type": "markdown",
   "id": "8979560d-dfae-46e2-88d4-5be2efb9ac0d",
   "metadata": {},
   "source": [
    "## Where to continue"
   ]
  },
  {
   "cell_type": "markdown",
   "id": "f2ba17c2-87ca-42d6-8e5b-08a86b894006",
   "metadata": {},
   "source": [
    "It seems like everything is working well, may need to just play around and build out a quick ui"
   ]
  },
  {
   "cell_type": "markdown",
   "id": "c07fcae5-6242-48a4-9f0a-5314e8a57691",
   "metadata": {},
   "source": [
    "Lets look at user 1's read books, vector, closest book vector, and give that info to gemini to get a reccomendation"
   ]
  },
  {
   "cell_type": "code",
   "execution_count": null,
   "id": "09261749-5685-4f27-bcf4-3e2381acde4b",
   "metadata": {},
   "outputs": [],
   "source": [
    "books = user_operations.get_books_read_by_user_id(1)\n",
    "books"
   ]
  },
  {
   "cell_type": "code",
   "execution_count": null,
   "id": "a0601acd-a8ab-4c4f-ac6c-5840ff1fa951",
   "metadata": {},
   "outputs": [],
   "source": [
    "user_vector = user_operations.get_vector_by_user_id(1)"
   ]
  },
  {
   "cell_type": "code",
   "execution_count": null,
   "id": "875062e7-34c2-49f2-be70-41436e2ee0ad",
   "metadata": {},
   "outputs": [],
   "source": [
    "user_vector\n"
   ]
  },
  {
   "cell_type": "markdown",
   "id": "69eab118-585c-4f55-879b-78a570c40180",
   "metadata": {},
   "source": [
    "### Where to continue"
   ]
  },
  {
   "cell_type": "markdown",
   "id": "09b810af-6ecf-4eae-b646-a0b053409d62",
   "metadata": {},
   "source": [
    "Above, I made a new vector db with books\n",
    "do the same with users and make 2 seperate classes with it\n",
    "then, modify the user_operations to accomodate the new functions"
   ]
  },
  {
   "cell_type": "code",
   "execution_count": null,
   "id": "77bd1dce-8fec-4d6b-82b5-637ccb3785d4",
   "metadata": {},
   "outputs": [],
   "source": [
    "books.delete_collection()"
   ]
  },
  {
   "cell_type": "code",
   "execution_count": null,
   "id": "41c1ba3d-b3e1-4bcf-9cea-6c49b7c70759",
   "metadata": {},
   "outputs": [],
   "source": [
    "\n",
    "from src.books import Books\n",
    "\n",
    "books = Books()\n"
   ]
  },
  {
   "cell_type": "code",
   "execution_count": null,
   "id": "191b0b0f-1a37-40f3-8aeb-35366706baee",
   "metadata": {},
   "outputs": [],
   "source": [
    "books.books_collection.get(include=[\"embeddings\", \"metadatas\", \"documents\"])\n"
   ]
  },
  {
   "cell_type": "code",
   "execution_count": null,
   "id": "9fe6e58a-d076-4d39-bc8e-12b3052606e6",
   "metadata": {},
   "outputs": [],
   "source": [
    "books.get_book_by_name('Moby')"
   ]
  },
  {
   "cell_type": "code",
   "execution_count": null,
   "id": "2646435b-c271-44c4-bccd-d4cda61da46a",
   "metadata": {},
   "outputs": [],
   "source": [
    "from sentence_transformers import SentenceTransformer\n",
    "import chromadb\n",
    "db_path=\"./chroma_db\"\n",
    "chroma_client = chromadb.PersistentClient(path=db_path)  # ✅ Persist DB\n",
    "db_path=\"./chroma_db\"\n",
    "SentenceTransformer(\"all-MiniLM-L6-v2\")\n"
   ]
  },
  {
   "cell_type": "code",
   "execution_count": null,
   "id": "b6a6fccd-5f26-454c-a1c0-65687db06514",
   "metadata": {},
   "outputs": [],
   "source": []
  },
  {
   "cell_type": "code",
   "execution_count": null,
   "id": "602ad3e0-7385-4983-9949-615e7b7bf911",
   "metadata": {},
   "outputs": [],
   "source": [
    "from src.users import Users\n",
    "from src.books import Books\n",
    "\n",
    "users = Users()\n",
    "books = Books()"
   ]
  },
  {
   "cell_type": "code",
   "execution_count": null,
   "id": "357d5ff7-c6df-4ed2-9074-ad719e2c5191",
   "metadata": {},
   "outputs": [],
   "source": [
    "books.delete_all_books()"
   ]
  },
  {
   "cell_type": "code",
   "execution_count": null,
   "id": "13b75ea8-9b19-45fa-9306-9d4467a6b00f",
   "metadata": {},
   "outputs": [],
   "source": [
    "books.books_collection.get()['ids']"
   ]
  },
  {
   "cell_type": "code",
   "execution_count": null,
   "id": "e1a3443d-3d5a-4cc1-9bb4-17060e6c1367",
   "metadata": {},
   "outputs": [],
   "source": [
    "users.users_collection.delete(users.users_collection.get()['ids'])"
   ]
  },
  {
   "cell_type": "code",
   "execution_count": null,
   "id": "9f58a573-8ac1-428d-bb7f-69589729cac5",
   "metadata": {},
   "outputs": [],
   "source": [
    "users.users_collection.get()"
   ]
  },
  {
   "cell_type": "code",
   "execution_count": null,
   "id": "e90a969f-a7d3-4227-a872-a5f74e33d885",
   "metadata": {},
   "outputs": [],
   "source": [
    "books.create_collection()"
   ]
  },
  {
   "cell_type": "code",
   "execution_count": null,
   "id": "98bbb8f7-52a8-4b1f-aea8-111546ffcbc7",
   "metadata": {},
   "outputs": [],
   "source": [
    "books.books_collection.get()\n"
   ]
  },
  {
   "cell_type": "markdown",
   "id": "a0dd9069-4154-4a8d-8cda-3d212dd13a78",
   "metadata": {},
   "source": [
    "### CONTINUE HERE!"
   ]
  },
  {
   "cell_type": "markdown",
   "id": "b46921dc-22d3-4b94-b793-0a464b264331",
   "metadata": {},
   "source": [
    "Wait so now above Ive created a way to store books in chroma, however the get_all_books method pulls from sqllite. I should get rid of the sql lite methods."
   ]
  },
  {
   "cell_type": "markdown",
   "id": "85420af1-582d-4332-a81f-1b0f490a8dba",
   "metadata": {},
   "source": [
    "It looks like the books collection is correctly vectorized and initialized. Lets see if the same is above for books. To get a good user vector starting point, we'll take the average of ALL vectors in the book db. This will give us the most generic starting point to initialize the user vector to upon creation."
   ]
  },
  {
   "cell_type": "code",
   "execution_count": null,
   "id": "9c826691-b24d-4533-ab21-90bdc98260a3",
   "metadata": {},
   "outputs": [],
   "source": [
    "user_ops = UserOperationsLocal()"
   ]
  },
  {
   "cell_type": "code",
   "execution_count": null,
   "id": "2d5c66ab-b73d-4b41-a36b-e5a167118a48",
   "metadata": {},
   "outputs": [],
   "source": [
    "books.get_all_books()"
   ]
  },
  {
   "cell_type": "code",
   "execution_count": null,
   "id": "3efd07a6-63d0-44c5-b26a-7680d9c23780",
   "metadata": {},
   "outputs": [],
   "source": [
    "users.users_collection.get()"
   ]
  },
  {
   "cell_type": "code",
   "execution_count": null,
   "id": "f240e840-1ad6-4146-8fef-3c756311e1a7",
   "metadata": {},
   "outputs": [],
   "source": [
    "user_ops.get_all_books()"
   ]
  },
  {
   "cell_type": "code",
   "execution_count": null,
   "id": "bcdf8177-9ada-47b8-b0a6-fb027eab3ff1",
   "metadata": {},
   "outputs": [],
   "source": [
    "books.get_all_books()"
   ]
  },
  {
   "cell_type": "code",
   "execution_count": null,
   "id": "6ef9385e-c8f7-4a76-81ba-f7b5eec7986b",
   "metadata": {},
   "outputs": [],
   "source": [
    "users"
   ]
  },
  {
   "cell_type": "code",
   "execution_count": null,
   "id": "87c037e7-5d1e-447c-99a6-54b1048ebf2b",
   "metadata": {},
   "outputs": [],
   "source": [
    "users.users_collection."
   ]
  },
  {
   "cell_type": "code",
   "execution_count": null,
   "id": "84fb2e8a-5e38-4f2b-9a38-bf34e33228c7",
   "metadata": {},
   "outputs": [],
   "source": [
    "users.get_book_by_name(self, title):\n",
    "        \"\"\"Retrieves books by title (exact match).\"\"\"\n",
    "        results = self.books_collection.query(\n",
    "            query_texts=[title], n_results=5, include=[\"documents\", \"metadatas\", \"embeddings\"]\n",
    "        )"
   ]
  },
  {
   "cell_type": "code",
   "execution_count": 2,
   "id": "ceaa3ee1-edf6-4b99-b3f0-1de273cbefcf",
   "metadata": {},
   "outputs": [
    {
     "data": {
      "text/plain": [
       "{'ids': ['e6942fda-30fe-4be4-880e-ee952888c7ff',\n",
       "  '3bb797bc-21ef-4e1d-84ef-2c17aff452a0',\n",
       "  '5a05b49e-1807-4cec-9cac-0039d7c1d329',\n",
       "  'f9f67955-8523-4d8b-8265-9c2db14ab301',\n",
       "  '6f439e74-e278-4392-94cd-e7ac6eea25e7',\n",
       "  '577ace34-2d72-4e1e-90d9-6401222788f0',\n",
       "  '10d4f94e-db4f-47f9-b644-5f1c63559338',\n",
       "  '0d4299eb-8392-4b09-9be9-989639c34a1c',\n",
       "  '0b362f3e-78cd-47da-bd79-4cd2b1a71251',\n",
       "  '1f99d563-4c35-4c03-8786-08a126b4e3c8'],\n",
       " 'embeddings': None,\n",
       " 'documents': None,\n",
       " 'uris': None,\n",
       " 'included': ['metadatas'],\n",
       " 'data': None,\n",
       " 'metadatas': [{'title': 'The Catcher in the Rye',\n",
       "   'description': 'A story about teenage angst and rebellion.',\n",
       "   'author': 'J.D. Salinger',\n",
       "   'genres': 'Fiction|Classic',\n",
       "   'rating': 4.2},\n",
       "  {'genres': 'Fiction|Classic|Historical',\n",
       "   'author': 'Harper Lee',\n",
       "   'title': 'To Kill a Mockingbird',\n",
       "   'description': 'A powerful tale of racial injustice in the Deep South.',\n",
       "   'rating': 4.8},\n",
       "  {'description': 'A dystopian novel about totalitarianism and surveillance.',\n",
       "   'genres': 'Fiction|Dystopian|Political',\n",
       "   'author': 'George Orwell',\n",
       "   'title': '1984',\n",
       "   'rating': 4.6},\n",
       "  {'title': 'The Great Gatsby',\n",
       "   'rating': 4.5,\n",
       "   'author': 'F. Scott Fitzgerald',\n",
       "   'genres': 'Fiction|Classic',\n",
       "   'description': 'A story about the American dream and its discontents.'},\n",
       "  {'author': 'Jane Austen',\n",
       "   'genres': 'Fiction|Romance|Classic',\n",
       "   'title': 'Pride and Prejudice',\n",
       "   'rating': 4.7,\n",
       "   'description': 'A witty exploration of love and social standing.'},\n",
       "  {'author': 'J.R.R. Tolkien',\n",
       "   'description': 'The adventurous tale of Bilbo Baggins in Middle-earth.',\n",
       "   'title': 'The Hobbit',\n",
       "   'genres': 'Fiction|Fantasy',\n",
       "   'rating': 4.9},\n",
       "  {'rating': 4.4,\n",
       "   'genres': 'Fiction|Sci-Fi',\n",
       "   'description': 'An epic saga of politics, religion, and power on a desert planet.',\n",
       "   'author': 'Frank Herbert',\n",
       "   'title': 'Dune'},\n",
       "  {'description': 'The beginning of a magical journey with Harry Potter.',\n",
       "   'genres': 'Fiction|Fantasy|Young Adult',\n",
       "   'rating': 4.9,\n",
       "   'title': \"Harry Potter and the Sorcerer's Stone\",\n",
       "   'author': 'J.K. Rowling'},\n",
       "  {'rating': 4.3,\n",
       "   'description': 'A mystical story of self-discovery and dreams.',\n",
       "   'title': 'The Alchemist',\n",
       "   'author': 'Paulo Coelho',\n",
       "   'genres': 'Fiction|Philosophical'},\n",
       "  {'description': 'A gripping tale of revenge and obsession with a white whale.',\n",
       "   'genres': 'Fiction|Classic',\n",
       "   'rating': 4.0,\n",
       "   'title': 'Moby Dick',\n",
       "   'author': 'Herman Melville'}]}"
      ]
     },
     "execution_count": 2,
     "metadata": {},
     "output_type": "execute_result"
    }
   ],
   "source": [
    "books.books_collection.get(include=[\"metadatas\"])"
   ]
  },
  {
   "cell_type": "code",
   "execution_count": null,
   "id": "3dee1a74-773d-4f88-bc4a-796745a6a5ad",
   "metadata": {},
   "outputs": [],
   "source": [
    "# Extract ratings\n",
    "ratings = [\n",
    "    metadata[\"rating\"]\n",
    "    for metadata in all_data[\"metadatas\"]\n",
    "    if \"rating\" in metadata and isinstance(metadata[\"rating\"], (int, float))\n",
    "]\n",
    "\n",
    "# Compute average rating\n",
    "if ratings:\n",
    "    average_rating = sum(ratings) / len(ratings)\n",
    "    print(f\"Average rating: {average_rating:.2f}\")\n",
    "else:\n",
    "    print(\"No ratings available.\")"
   ]
  },
  {
   "cell_type": "code",
   "execution_count": null,
   "id": "3ae92a42-059e-4132-a04b-c46485dfb326",
   "metadata": {},
   "outputs": [],
   "source": [
    "ratings"
   ]
  },
  {
   "cell_type": "code",
   "execution_count": null,
   "id": "99673e22-24a0-4748-a773-c0b8b6381eda",
   "metadata": {},
   "outputs": [],
   "source": [
    "from src.books import Books\n",
    "\n",
    "books = Books()"
   ]
  },
  {
   "cell_type": "code",
   "execution_count": null,
   "id": "ebc6ce7b-acf7-47b6-8ab0-6ec7313a6cfc",
   "metadata": {},
   "outputs": [],
   "source": []
  },
  {
   "cell_type": "code",
   "execution_count": null,
   "id": "3012471a-e82c-40d6-9855-ba07fc4b4e28",
   "metadata": {},
   "outputs": [],
   "source": [
    "books = Books()"
   ]
  },
  {
   "cell_type": "code",
   "execution_count": null,
   "id": "9fcd374e-a0c5-46a3-87cc-31b3529b3548",
   "metadata": {},
   "outputs": [],
   "source": [
    "books.get_average_rating()"
   ]
  },
  {
   "cell_type": "code",
   "execution_count": null,
   "id": "229d8790-b121-48ee-b856-43f0e098e826",
   "metadata": {},
   "outputs": [],
   "source": [
    "books.delete_all_books()"
   ]
  },
  {
   "cell_type": "code",
   "execution_count": null,
   "id": "590f63e3-4de2-4336-b82d-b4395c585769",
   "metadata": {},
   "outputs": [],
   "source": [
    "books.books_collection.get(include=[\"metadatas\"])\n"
   ]
  },
  {
   "cell_type": "code",
   "execution_count": null,
   "id": "91e1c53e-907a-4866-85d9-c9ba429a66a3",
   "metadata": {},
   "outputs": [],
   "source": []
  }
 ],
 "metadata": {
  "kernelspec": {
   "display_name": "Python (dev-env)",
   "language": "python",
   "name": "dev-env"
  },
  "language_info": {
   "codemirror_mode": {
    "name": "ipython",
    "version": 3
   },
   "file_extension": ".py",
   "mimetype": "text/x-python",
   "name": "python",
   "nbconvert_exporter": "python",
   "pygments_lexer": "ipython3",
   "version": "3.13.3"
  }
 },
 "nbformat": 4,
 "nbformat_minor": 5
}
