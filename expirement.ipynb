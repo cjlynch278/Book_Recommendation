{
 "cells": [
  {
   "cell_type": "markdown",
   "id": "a0dd9069-4154-4a8d-8cda-3d212dd13a78",
   "metadata": {},
   "source": [
    "### Where To Continue"
   ]
  },
  {
   "cell_type": "markdown",
   "id": "85420af1-582d-4332-a81f-1b0f490a8dba",
   "metadata": {},
   "source": [
    "##### Keep updating the classes and refactoring the methods. Get rid of all traces of sql lite. Specifically, add a recaclulate vector method"
   ]
  },
  {
   "cell_type": "code",
   "execution_count": null,
   "id": "99673e22-24a0-4748-a773-c0b8b6381eda",
   "metadata": {},
   "outputs": [],
   "source": [
    "from src.books import Books\n",
    "\n",
    "books = Books()"
   ]
  },
  {
   "cell_type": "code",
   "execution_count": 1,
   "id": "9fcd374e-a0c5-46a3-87cc-31b3529b3548",
   "metadata": {},
   "outputs": [
    {
     "name": "stderr",
     "output_type": "stream",
     "text": [
      "/Users/206801024/virtual_envrionments/dev-env/lib/python3.13/site-packages/tqdm/auto.py:21: TqdmWarning: IProgress not found. Please update jupyter and ipywidgets. See https://ipywidgets.readthedocs.io/en/stable/user_install.html\n",
      "  from .autonotebook import tqdm as notebook_tqdm\n"
     ]
    },
    {
     "name": "stdout",
     "output_type": "stream",
     "text": [
      "📚 'books' collection found. Skipping creation.\n",
      "📚 'books' collection found. Skipping creation.\n"
     ]
    }
   ],
   "source": [
    "from src.users import Users\n",
    "from src.books import Books\n",
    "\n",
    "books = Books()\n",
    "users = Users()"
   ]
  },
  {
   "cell_type": "code",
   "execution_count": 25,
   "id": "590f63e3-4de2-4336-b82d-b4395c585769",
   "metadata": {},
   "outputs": [
    {
     "name": "stdout",
     "output_type": "stream",
     "text": [
      "User 'chris test Lynch' added with ID: 383826f4-688e-412d-9296-a465fbaca9b5\n"
     ]
    }
   ],
   "source": [
    "users.add_user('chris test Lynch')"
   ]
  },
  {
   "cell_type": "code",
   "execution_count": 33,
   "id": "b607b4fc-886b-4da0-a167-8e36b02c33d7",
   "metadata": {},
   "outputs": [
    {
     "name": "stdout",
     "output_type": "stream",
     "text": [
      "User with ID ddd deleted.\n"
     ]
    }
   ],
   "source": [
    "users.delete_user('ddd')"
   ]
  },
  {
   "cell_type": "code",
   "execution_count": 31,
   "id": "91e1c53e-907a-4866-85d9-c9ba429a66a3",
   "metadata": {},
   "outputs": [
    {
     "ename": "IndexError",
     "evalue": "list index out of range",
     "output_type": "error",
     "traceback": [
      "\u001b[31m---------------------------------------------------------------------------\u001b[39m",
      "\u001b[31mIndexError\u001b[39m                                Traceback (most recent call last)",
      "\u001b[36mCell\u001b[39m\u001b[36m \u001b[39m\u001b[32mIn[31]\u001b[39m\u001b[32m, line 2\u001b[39m\n\u001b[32m      1\u001b[39m user_result = users.users_collection.get( include=[\u001b[33m\"\u001b[39m\u001b[33mdocuments\u001b[39m\u001b[33m\"\u001b[39m, \u001b[33m\"\u001b[39m\u001b[33mmetadatas\u001b[39m\u001b[33m\"\u001b[39m])\n\u001b[32m----> \u001b[39m\u001b[32m2\u001b[39m user_id = \u001b[43muser_result\u001b[49m\u001b[43m[\u001b[49m\u001b[33;43m'\u001b[39;49m\u001b[33;43mids\u001b[39;49m\u001b[33;43m'\u001b[39;49m\u001b[43m]\u001b[49m\u001b[43m[\u001b[49m\u001b[32;43m0\u001b[39;49m\u001b[43m]\u001b[49m\n",
      "\u001b[31mIndexError\u001b[39m: list index out of range"
     ]
    }
   ],
   "source": [
    "user_result = users.users_collection.get( include=[\"documents\", \"metadatas\"])\n",
    "user_id = user_result['ids'][0]\n"
   ]
  },
  {
   "cell_type": "code",
   "execution_count": 32,
   "id": "05fd46ef-2f38-4339-b6be-6127f17f870a",
   "metadata": {},
   "outputs": [
    {
     "data": {
      "text/plain": [
       "{'ids': [],\n",
       " 'embeddings': None,\n",
       " 'documents': [],\n",
       " 'uris': None,\n",
       " 'included': ['documents', 'metadatas'],\n",
       " 'data': None,\n",
       " 'metadatas': []}"
      ]
     },
     "execution_count": 32,
     "metadata": {},
     "output_type": "execute_result"
    }
   ],
   "source": [
    "user_result"
   ]
  },
  {
   "cell_type": "code",
   "execution_count": 29,
   "id": "1d1c89c5-4735-444a-a069-823c7721e639",
   "metadata": {},
   "outputs": [
    {
     "data": {
      "text/plain": [
       "'383826f4-688e-412d-9296-a465fbaca9b5'"
      ]
     },
     "execution_count": 29,
     "metadata": {},
     "output_type": "execute_result"
    }
   ],
   "source": [
    "user_id"
   ]
  },
  {
   "cell_type": "code",
   "execution_count": 15,
   "id": "4248f443-6397-432f-8c69-19379e4adc3a",
   "metadata": {},
   "outputs": [],
   "source": [
    "book_id = '44d30f07-d539-4afc-9b5c-d2f101aa7a99'"
   ]
  },
  {
   "cell_type": "code",
   "execution_count": 5,
   "id": "2922c6ec-1798-4c7a-a30f-302f8c1ab6e8",
   "metadata": {},
   "outputs": [
    {
     "ename": "AttributeError",
     "evalue": "'Users' object has no attribute 'recalculate_user_vector'",
     "output_type": "error",
     "traceback": [
      "\u001b[31m---------------------------------------------------------------------------\u001b[39m",
      "\u001b[31mAttributeError\u001b[39m                            Traceback (most recent call last)",
      "\u001b[36mCell\u001b[39m\u001b[36m \u001b[39m\u001b[32mIn[5]\u001b[39m\u001b[32m, line 1\u001b[39m\n\u001b[32m----> \u001b[39m\u001b[32m1\u001b[39m \u001b[43musers\u001b[49m\u001b[43m.\u001b[49m\u001b[43mtrack_book_reading\u001b[49m\u001b[43m(\u001b[49m\u001b[43muser_id\u001b[49m\u001b[43m,\u001b[49m\u001b[43mbook_id\u001b[49m\u001b[43m)\u001b[49m\n",
      "\u001b[36mFile \u001b[39m\u001b[32m~/Projects/p/Book_Recommendation/src/users.py:95\u001b[39m, in \u001b[36mUsers.track_book_reading\u001b[39m\u001b[34m(self, user_id, book_id)\u001b[39m\n\u001b[32m     86\u001b[39m new_metadata[\u001b[33m\"\u001b[39m\u001b[33muser_id\u001b[39m\u001b[33m\"\u001b[39m] = user_id\n\u001b[32m     88\u001b[39m \u001b[38;5;28mself\u001b[39m.books.books_collection.add(\n\u001b[32m     89\u001b[39m     ids=[book_id],\n\u001b[32m     90\u001b[39m     documents=[book[\u001b[33m\"\u001b[39m\u001b[33mdocuments\u001b[39m\u001b[33m\"\u001b[39m][\u001b[32m0\u001b[39m]],\n\u001b[32m     91\u001b[39m     embeddings=[book[\u001b[33m\"\u001b[39m\u001b[33membeddings\u001b[39m\u001b[33m\"\u001b[39m][\u001b[32m0\u001b[39m]],\n\u001b[32m     92\u001b[39m     metadatas=[new_metadata]\n\u001b[32m     93\u001b[39m )\n\u001b[32m---> \u001b[39m\u001b[32m95\u001b[39m \u001b[38;5;28;43mself\u001b[39;49m\u001b[43m.\u001b[49m\u001b[43mrecalculate_user_vector\u001b[49m(user_id, book_id)\n",
      "\u001b[31mAttributeError\u001b[39m: 'Users' object has no attribute 'recalculate_user_vector'"
     ]
    }
   ],
   "source": [
    "users.track_book_reading(user_id,book_id)"
   ]
  },
  {
   "cell_type": "code",
   "execution_count": 32,
   "id": "60eb157a-7045-4dd5-ab7e-897632566b1f",
   "metadata": {},
   "outputs": [
    {
     "ename": "KeyError",
     "evalue": "'book_id'",
     "output_type": "error",
     "traceback": [
      "\u001b[31m---------------------------------------------------------------------------\u001b[39m",
      "\u001b[31mKeyError\u001b[39m                                  Traceback (most recent call last)",
      "\u001b[36mCell\u001b[39m\u001b[36m \u001b[39m\u001b[32mIn[32]\u001b[39m\u001b[32m, line 1\u001b[39m\n\u001b[32m----> \u001b[39m\u001b[32m1\u001b[39m \u001b[43musers\u001b[49m\u001b[43m.\u001b[49m\u001b[43mtrack_book_reading\u001b[49m\u001b[43m(\u001b[49m\u001b[43muser_id\u001b[49m\u001b[43m,\u001b[49m\u001b[43mbook_id\u001b[49m\u001b[43m)\u001b[49m\n",
      "\u001b[36mFile \u001b[39m\u001b[32m~/Projects/p/Book_Recommendation/src/users.py:79\u001b[39m, in \u001b[36mUsers.track_book_reading\u001b[39m\u001b[34m(self, user_id, book_id)\u001b[39m\n\u001b[32m     77\u001b[39m \u001b[38;5;66;03m# Check if the book has already been read by the user\u001b[39;00m\n\u001b[32m     78\u001b[39m read_books_df = \u001b[38;5;28mself\u001b[39m.get_books_read_by_user_id(user_id)\n\u001b[32m---> \u001b[39m\u001b[32m79\u001b[39m \u001b[38;5;28;01mif\u001b[39;00m book_id \u001b[38;5;129;01min\u001b[39;00m \u001b[43mread_books_df\u001b[49m\u001b[43m[\u001b[49m\u001b[33;43m'\u001b[39;49m\u001b[33;43mbook_id\u001b[39;49m\u001b[33;43m'\u001b[39;49m\u001b[43m]\u001b[49m.values:\n\u001b[32m     80\u001b[39m     \u001b[38;5;28mprint\u001b[39m(\u001b[33m\"\u001b[39m\u001b[33mError: This book has already been read.\u001b[39m\u001b[33m\"\u001b[39m)\n\u001b[32m     81\u001b[39m     \u001b[38;5;28;01mreturn\u001b[39;00m\n",
      "\u001b[31mKeyError\u001b[39m: 'book_id'"
     ]
    }
   ],
   "source": [
    "users.track_book_reading(user_id,book_id)"
   ]
  },
  {
   "cell_type": "markdown",
   "id": "07a3218f-3ca8-4c0b-b42f-0afd3a3d4114",
   "metadata": {},
   "source": [
    "### Demo"
   ]
  },
  {
   "cell_type": "code",
   "execution_count": null,
   "id": "e1bc7692-4fa0-4fd9-97bf-0d9233908061",
   "metadata": {},
   "outputs": [],
   "source": [
    "from src.users import Users\n",
    "from src.books import Books\n",
    "\n",
    "books = Books()\n",
    "users = Users()"
   ]
  }
 ],
 "metadata": {
  "kernelspec": {
   "display_name": "Python (dev-env)",
   "language": "python",
   "name": "dev-env"
  },
  "language_info": {
   "codemirror_mode": {
    "name": "ipython",
    "version": 3
   },
   "file_extension": ".py",
   "mimetype": "text/x-python",
   "name": "python",
   "nbconvert_exporter": "python",
   "pygments_lexer": "ipython3",
   "version": "3.13.3"
  }
 },
 "nbformat": 4,
 "nbformat_minor": 5
}
