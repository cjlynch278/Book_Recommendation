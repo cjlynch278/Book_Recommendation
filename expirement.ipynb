{
 "cells": [
  {
   "cell_type": "markdown",
   "id": "a0dd9069-4154-4a8d-8cda-3d212dd13a78",
   "metadata": {},
   "source": [
    "### Where To Continue"
   ]
  },
  {
   "cell_type": "markdown",
   "id": "85420af1-582d-4332-a81f-1b0f490a8dba",
   "metadata": {},
   "source": [
    "##### Keep updating the classes and refactoring the methods. Get rid of all traces of sql lite. Specifically, add a recaclulate vector method"
   ]
  },
  {
   "cell_type": "code",
   "execution_count": null,
   "id": "99673e22-24a0-4748-a773-c0b8b6381eda",
   "metadata": {},
   "outputs": [],
   "source": [
    "from src.books import Books\n",
    "\n",
    "books = Books()"
   ]
  },
  {
   "cell_type": "code",
   "execution_count": null,
   "id": "9fcd374e-a0c5-46a3-87cc-31b3529b3548",
   "metadata": {},
   "outputs": [],
   "source": [
    "from src.users import Users\n",
    "from src.books import Books\n",
    "\n",
    "books = Books()\n",
    "users = Users()"
   ]
  },
  {
   "cell_type": "code",
   "execution_count": null,
   "id": "590f63e3-4de2-4336-b82d-b4395c585769",
   "metadata": {},
   "outputs": [],
   "source": [
    "users.add_user('chris test Lynch')"
   ]
  },
  {
   "cell_type": "code",
   "execution_count": null,
   "id": "b607b4fc-886b-4da0-a167-8e36b02c33d7",
   "metadata": {},
   "outputs": [],
   "source": [
    "users.delete_user('ddd')"
   ]
  },
  {
   "cell_type": "code",
   "execution_count": null,
   "id": "91e1c53e-907a-4866-85d9-c9ba429a66a3",
   "metadata": {},
   "outputs": [],
   "source": [
    "user_result = users.users_collection.get( include=[\"documents\", \"metadatas\"])\n",
    "user_id = user_result['ids'][0]\n"
   ]
  },
  {
   "cell_type": "code",
   "execution_count": null,
   "id": "05fd46ef-2f38-4339-b6be-6127f17f870a",
   "metadata": {},
   "outputs": [],
   "source": [
    "user_result"
   ]
  },
  {
   "cell_type": "code",
   "execution_count": null,
   "id": "1d1c89c5-4735-444a-a069-823c7721e639",
   "metadata": {},
   "outputs": [],
   "source": [
    "user_id"
   ]
  },
  {
   "cell_type": "code",
   "execution_count": null,
   "id": "4248f443-6397-432f-8c69-19379e4adc3a",
   "metadata": {},
   "outputs": [],
   "source": [
    "book_id = '44d30f07-d539-4afc-9b5c-d2f101aa7a99'"
   ]
  },
  {
   "cell_type": "code",
   "execution_count": null,
   "id": "2922c6ec-1798-4c7a-a30f-302f8c1ab6e8",
   "metadata": {},
   "outputs": [],
   "source": [
    "users.track_book_reading(user_id,book_id)"
   ]
  },
  {
   "cell_type": "code",
   "execution_count": null,
   "id": "60eb157a-7045-4dd5-ab7e-897632566b1f",
   "metadata": {},
   "outputs": [],
   "source": [
    "users.track_book_reading(user_id,book_id)"
   ]
  },
  {
   "cell_type": "markdown",
   "id": "07a3218f-3ca8-4c0b-b42f-0afd3a3d4114",
   "metadata": {},
   "source": [
    "### Demo"
   ]
  },
  {
   "cell_type": "code",
   "execution_count": null,
   "id": "e1bc7692-4fa0-4fd9-97bf-0d9233908061",
   "metadata": {},
   "outputs": [],
   "source": [
    "from src.users import Users\n",
    "from src.books import Books\n",
    "\n",
    "books = Books()\n",
    "users = Users()"
   ]
  },
  {
   "cell_type": "code",
   "execution_count": null,
   "id": "30ae72d3-24cc-4ae0-a120-23cbfaf3a5cd",
   "metadata": {
    "scrolled": true
   },
   "outputs": [],
   "source": []
  },
  {
   "cell_type": "code",
   "execution_count": null,
   "id": "30739d76-5374-4053-bf97-63bf18809b94",
   "metadata": {},
   "outputs": [],
   "source": [
    "users.add_user(\"Chris Lynch\")"
   ]
  },
  {
   "cell_type": "code",
   "execution_count": null,
   "id": "b64d7e14-9faa-486a-82e3-cee93600b0ce",
   "metadata": {},
   "outputs": [],
   "source": [
    "user_id = 'de71e57a-4366-4242-956a-a3f62af61647'"
   ]
  },
  {
   "cell_type": "code",
   "execution_count": null,
   "id": "f9264dd2-fca2-432b-938a-f7428da62411",
   "metadata": {},
   "outputs": [],
   "source": [
    "book_id =  books.books_collection.get(   \n",
    "            include=[\"embeddings\", \"metadatas\",\"documents\"]\n",
    "        )['ids'][1]"
   ]
  },
  {
   "cell_type": "code",
   "execution_count": null,
   "id": "ed27c279-8b72-4b0f-aaaa-9a58d955b010",
   "metadata": {},
   "outputs": [],
   "source": [
    "book_id"
   ]
  },
  {
   "cell_type": "markdown",
   "id": "31dccc24-ff79-4163-a27e-adafff54c2e3",
   "metadata": {},
   "source": [
    "books.get_all_books()"
   ]
  },
  {
   "cell_type": "code",
   "execution_count": null,
   "id": "47f28767-67fc-4dfc-9343-a60f0af1c5ef",
   "metadata": {},
   "outputs": [],
   "source": [
    "user_data = users.users_collection.get(\n",
    "            include=[\"embeddings\", \"metadatas\",\"documents\"]\n",
    "        \n",
    "        )"
   ]
  },
  {
   "cell_type": "code",
   "execution_count": null,
   "id": "88bede5d-1c66-45ab-bb1d-e2250af67078",
   "metadata": {},
   "outputs": [],
   "source": [
    "user_id = user_data['ids'][0]"
   ]
  },
  {
   "cell_type": "code",
   "execution_count": null,
   "id": "4e1e7179-f4f7-4bcd-8ae2-43dd063bef54",
   "metadata": {},
   "outputs": [],
   "source": [
    "user_data = users.users_collection.get(\n",
    "    ids=[user_id],\n",
    "    include=[\"embeddings\", \"metadatas\", \"documents\"]\n",
    ")"
   ]
  },
  {
   "cell_type": "code",
   "execution_count": null,
   "id": "a5613a97-8c1e-4faf-bc97-3b0c8a228b5a",
   "metadata": {
    "scrolled": true
   },
   "outputs": [],
   "source": [
    "user_data"
   ]
  },
  {
   "cell_type": "code",
   "execution_count": null,
   "id": "840d2043-f812-4708-8b38-a1037f6f2170",
   "metadata": {},
   "outputs": [],
   "source": [
    "users.track_book_reading(user_id, book_id)"
   ]
  },
  {
   "cell_type": "code",
   "execution_count": null,
   "id": "28bc2a23-403c-4e28-9430-05f12e0454b4",
   "metadata": {},
   "outputs": [],
   "source": [
    "book_id"
   ]
  },
  {
   "cell_type": "code",
   "execution_count": null,
   "id": "d3f95538-7ee8-4d76-a233-58f39e0c7bd7",
   "metadata": {},
   "outputs": [],
   "source": []
  }
 ],
 "metadata": {
  "kernelspec": {
   "display_name": "Python (dev-env)",
   "language": "python",
   "name": "dev-env"
  },
  "language_info": {
   "codemirror_mode": {
    "name": "ipython",
    "version": 3
   },
   "file_extension": ".py",
   "mimetype": "text/x-python",
   "name": "python",
   "nbconvert_exporter": "python",
   "pygments_lexer": "ipython3",
   "version": "3.13.3"
  }
 },
 "nbformat": 4,
 "nbformat_minor": 5
}
