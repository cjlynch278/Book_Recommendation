{
 "cells": [
  {
   "cell_type": "markdown",
   "id": "a0dd9069-4154-4a8d-8cda-3d212dd13a78",
   "metadata": {},
   "source": [
    "### CONTINUE HERE!"
   ]
  },
  {
   "cell_type": "markdown",
   "id": "b46921dc-22d3-4b94-b793-0a464b264331",
   "metadata": {},
   "source": [
    "Wait so now above Ive created a way to store books in chroma, however the get_all_books method pulls from sqllite. I should get rid of the sql lite methods."
   ]
  },
  {
   "cell_type": "markdown",
   "id": "85420af1-582d-4332-a81f-1b0f490a8dba",
   "metadata": {},
   "source": [
    "### I've updated the books collection to simply add books and vectorize them using the default chroma "
   ]
  },
  {
   "cell_type": "code",
   "execution_count": null,
   "id": "f240e840-1ad6-4146-8fef-3c756311e1a7",
   "metadata": {},
   "outputs": [],
   "source": [
    "user_ops.get_all_books()"
   ]
  },
  {
   "cell_type": "code",
   "execution_count": null,
   "id": "bcdf8177-9ada-47b8-b0a6-fb027eab3ff1",
   "metadata": {},
   "outputs": [],
   "source": [
    "books.get_all_books()"
   ]
  },
  {
   "cell_type": "code",
   "execution_count": null,
   "id": "6ef9385e-c8f7-4a76-81ba-f7b5eec7986b",
   "metadata": {},
   "outputs": [],
   "source": [
    "users"
   ]
  },
  {
   "cell_type": "code",
   "execution_count": null,
   "id": "87c037e7-5d1e-447c-99a6-54b1048ebf2b",
   "metadata": {},
   "outputs": [],
   "source": [
    "users.users_collection."
   ]
  },
  {
   "cell_type": "code",
   "execution_count": null,
   "id": "84fb2e8a-5e38-4f2b-9a38-bf34e33228c7",
   "metadata": {},
   "outputs": [],
   "source": [
    "users.get_book_by_name(self, title):\n",
    "        \"\"\"Retrieves books by title (exact match).\"\"\"\n",
    "        results = self.books_collection.query(\n",
    "            query_texts=[title], n_results=5, include=[\"documents\", \"metadatas\", \"embeddings\"]\n",
    "        )"
   ]
  },
  {
   "cell_type": "code",
   "execution_count": null,
   "id": "ceaa3ee1-edf6-4b99-b3f0-1de273cbefcf",
   "metadata": {},
   "outputs": [],
   "source": [
    "books.books_collection.get(include=[\"metadatas\"])"
   ]
  },
  {
   "cell_type": "code",
   "execution_count": null,
   "id": "3dee1a74-773d-4f88-bc4a-796745a6a5ad",
   "metadata": {},
   "outputs": [],
   "source": [
    "# Extract ratings\n",
    "ratings = [\n",
    "    metadata[\"rating\"]\n",
    "    for metadata in all_data[\"metadatas\"]\n",
    "    if \"rating\" in metadata and isinstance(metadata[\"rating\"], (int, float))\n",
    "]\n",
    "\n",
    "# Compute average rating\n",
    "if ratings:\n",
    "    average_rating = sum(ratings) / len(ratings)\n",
    "    print(f\"Average rating: {average_rating:.2f}\")\n",
    "else:\n",
    "    print(\"No ratings available.\")"
   ]
  },
  {
   "cell_type": "code",
   "execution_count": null,
   "id": "3ae92a42-059e-4132-a04b-c46485dfb326",
   "metadata": {},
   "outputs": [],
   "source": [
    "ratings"
   ]
  },
  {
   "cell_type": "code",
   "execution_count": null,
   "id": "99673e22-24a0-4748-a773-c0b8b6381eda",
   "metadata": {},
   "outputs": [],
   "source": [
    "from src.books import Books\n",
    "\n",
    "books = Books()"
   ]
  },
  {
   "cell_type": "code",
   "execution_count": null,
   "id": "9fcd374e-a0c5-46a3-87cc-31b3529b3548",
   "metadata": {},
   "outputs": [],
   "source": [
    "books.get_average_vector()"
   ]
  },
  {
   "cell_type": "code",
   "execution_count": null,
   "id": "229d8790-b121-48ee-b856-43f0e098e826",
   "metadata": {},
   "outputs": [],
   "source": [
    "books.delete_all_books()"
   ]
  },
  {
   "cell_type": "code",
   "execution_count": null,
   "id": "590f63e3-4de2-4336-b82d-b4395c585769",
   "metadata": {},
   "outputs": [],
   "source": []
  },
  {
   "cell_type": "code",
   "execution_count": null,
   "id": "e0887ed9-473a-469a-b046-63d09da482de",
   "metadata": {},
   "outputs": [],
   "source": [
    "books.get_average_rating()"
   ]
  },
  {
   "cell_type": "code",
   "execution_count": null,
   "id": "91e1c53e-907a-4866-85d9-c9ba429a66a3",
   "metadata": {},
   "outputs": [],
   "source": []
  }
 ],
 "metadata": {
  "kernelspec": {
   "display_name": "Python (dev-env)",
   "language": "python",
   "name": "dev-env"
  },
  "language_info": {
   "codemirror_mode": {
    "name": "ipython",
    "version": 3
   },
   "file_extension": ".py",
   "mimetype": "text/x-python",
   "name": "python",
   "nbconvert_exporter": "python",
   "pygments_lexer": "ipython3",
   "version": "3.13.3"
  }
 },
 "nbformat": 4,
 "nbformat_minor": 5
}
