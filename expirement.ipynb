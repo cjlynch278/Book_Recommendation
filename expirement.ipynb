{
 "cells": [
  {
   "cell_type": "code",
   "execution_count": 14,
   "id": "a047bd2e-c1e6-4343-9fce-6a75f87cf35f",
   "metadata": {},
   "outputs": [
    {
     "name": "stdout",
     "output_type": "stream",
     "text": [
      "Data loaded successfully.\n",
      "Changes2\n",
      "(10, 8)\n"
     ]
    },
    {
     "ename": "AttributeError",
     "evalue": "'NoneType' object has no attribute 'shape'",
     "output_type": "error",
     "traceback": [
      "\u001b[0;31m---------------------------------------------------------------------------\u001b[0m",
      "\u001b[0;31mAttributeError\u001b[0m                            Traceback (most recent call last)",
      "Cell \u001b[0;32mIn[14], line 10\u001b[0m\n\u001b[1;32m      7\u001b[0m vectorizer\u001b[38;5;241m.\u001b[39mload_data(\u001b[38;5;124m'\u001b[39m\u001b[38;5;124m./data/books.csv\u001b[39m\u001b[38;5;124m'\u001b[39m)\n\u001b[1;32m      9\u001b[0m \u001b[38;5;66;03m# Vectorize relevant columns\u001b[39;00m\n\u001b[0;32m---> 10\u001b[0m \u001b[43mvectorizer\u001b[49m\u001b[38;5;241;43m.\u001b[39;49m\u001b[43mvectorize_categorical\u001b[49m\u001b[43m(\u001b[49m\u001b[38;5;124;43m\"\u001b[39;49m\u001b[38;5;124;43mGenres\u001b[39;49m\u001b[38;5;124;43m\"\u001b[39;49m\u001b[43m)\u001b[49m\n\u001b[1;32m     11\u001b[0m \u001b[38;5;66;03m#vectorizer.scale_numeric(\"Ratings\")\u001b[39;00m\n\u001b[1;32m     12\u001b[0m \n\u001b[1;32m     13\u001b[0m \u001b[38;5;66;03m# Get the vectorized dataset\u001b[39;00m\n\u001b[1;32m     14\u001b[0m X \u001b[38;5;241m=\u001b[39m vectorizer\u001b[38;5;241m.\u001b[39mget_vectorized_data()\n",
      "Cell \u001b[0;32mIn[13], line 35\u001b[0m, in \u001b[0;36mVectorization_local.vectorize_categorical\u001b[0;34m(self, column_name)\u001b[0m\n\u001b[1;32m     33\u001b[0m encoded \u001b[38;5;241m=\u001b[39m onehot\u001b[38;5;241m.\u001b[39mfit_transform(\u001b[38;5;28mself\u001b[39m\u001b[38;5;241m.\u001b[39mraw_data[[column_name]])\n\u001b[1;32m     34\u001b[0m \u001b[38;5;28mprint\u001b[39m(encoded\u001b[38;5;241m.\u001b[39mshape)\n\u001b[0;32m---> 35\u001b[0m \u001b[38;5;28mprint\u001b[39m(\u001b[38;5;28;43mself\u001b[39;49m\u001b[38;5;241;43m.\u001b[39;49m\u001b[43mvectorized_data\u001b[49m\u001b[38;5;241;43m.\u001b[39;49m\u001b[43mshape\u001b[49m)\n\u001b[1;32m     36\u001b[0m \u001b[38;5;28mself\u001b[39m\u001b[38;5;241m.\u001b[39mvectorized_data \u001b[38;5;241m=\u001b[39m np\u001b[38;5;241m.\u001b[39mhstack((\u001b[38;5;28mself\u001b[39m\u001b[38;5;241m.\u001b[39mvectorized_data, encoded\u001b[38;5;241m.\u001b[39mtoarray()))\n\u001b[1;32m     37\u001b[0m \u001b[38;5;28mprint\u001b[39m(\u001b[38;5;124mf\u001b[39m\u001b[38;5;124m\"\u001b[39m\u001b[38;5;124mCategorical column \u001b[39m\u001b[38;5;124m'\u001b[39m\u001b[38;5;132;01m{\u001b[39;00mcolumn_name\u001b[38;5;132;01m}\u001b[39;00m\u001b[38;5;124m'\u001b[39m\u001b[38;5;124m vectorized.\u001b[39m\u001b[38;5;124m\"\u001b[39m)\n",
      "\u001b[0;31mAttributeError\u001b[0m: 'NoneType' object has no attribute 'shape'"
     ]
    }
   ],
   "source": [
    "\n",
    "config = {\"max_features\": 500}\n",
    "\n",
    "# Initialize the vectorization class\n",
    "vectorizer = Vectorization_local(config)\n",
    "\n",
    "# Load data\n",
    "vectorizer.load_data('./data/books.csv')\n",
    "\n",
    "# Vectorize relevant columns\n",
    "vectorizer.vectorize_categorical(\"Genres\")\n",
    "#vectorizer.scale_numeric(\"Ratings\")\n",
    "\n",
    "# Get the vectorized dataset\n",
    "X = vectorizer.get_vectorized_data()\n"
   ]
  },
  {
   "cell_type": "code",
   "execution_count": 7,
   "id": "bdb8583f-3607-4681-a7d9-ea58ba895f7f",
   "metadata": {},
   "outputs": [
    {
     "ename": "NameError",
     "evalue": "name 'query_vector' is not defined",
     "output_type": "error",
     "traceback": [
      "\u001b[0;31m---------------------------------------------------------------------------\u001b[0m",
      "\u001b[0;31mNameError\u001b[0m                                 Traceback (most recent call last)",
      "Cell \u001b[0;32mIn[7], line 2\u001b[0m\n\u001b[1;32m      1\u001b[0m \u001b[38;5;66;03m# Print the shape of the query vector and the vectorized data\u001b[39;00m\n\u001b[0;32m----> 2\u001b[0m \u001b[38;5;28mprint\u001b[39m(\u001b[38;5;124m\"\u001b[39m\u001b[38;5;124mShape of query vector:\u001b[39m\u001b[38;5;124m\"\u001b[39m, \u001b[43mquery_vector\u001b[49m\u001b[38;5;241m.\u001b[39mshape)\n\u001b[1;32m      3\u001b[0m \u001b[38;5;28mprint\u001b[39m(\u001b[38;5;124m\"\u001b[39m\u001b[38;5;124mShape of vectorized data:\u001b[39m\u001b[38;5;124m\"\u001b[39m, vectorized_data\u001b[38;5;241m.\u001b[39mshape)\n\u001b[1;32m      5\u001b[0m \u001b[38;5;66;03m# You can also print the arrays themselves to inspect their content\u001b[39;00m\n",
      "\u001b[0;31mNameError\u001b[0m: name 'query_vector' is not defined"
     ]
    }
   ],
   "source": [
    "# Print the shape of the query vector and the vectorized data\n",
    "print(\"Shape of query vector:\", query_vector.shape)\n",
    "print(\"Shape of vectorized data:\", vectorized_data.shape)\n",
    "\n",
    "# You can also print the arrays themselves to inspect their content\n",
    "print(\"Query vector:\", query_vector.toarray())  # Convert sparse to dense for visualization\n",
    "print(\"Vectorized data (first 5 rows):\", vectorized_data.toarray()[:5])  "
   ]
  },
  {
   "cell_type": "code",
   "execution_count": 10,
   "id": "3e5fa4e8-a4be-4e75-9bc7-b95216e25fe3",
   "metadata": {},
   "outputs": [
    {
     "data": {
      "text/plain": [
       "'Fiction|Classic'"
      ]
     },
     "execution_count": 10,
     "metadata": {},
     "output_type": "execute_result"
    }
   ],
   "source": [
    "vectorizer.raw_data['Genres'][0]"
   ]
  },
  {
   "cell_type": "code",
   "execution_count": 11,
   "id": "3c82291c-22d7-4aff-a0e7-31cde581b094",
   "metadata": {},
   "outputs": [
    {
     "data": {
      "text/plain": [
       "(10, 1)"
      ]
     },
     "execution_count": 11,
     "metadata": {},
     "output_type": "execute_result"
    }
   ],
   "source": [
    "vectorizer.raw_data[['Genres']].shape"
   ]
  },
  {
   "cell_type": "code",
   "execution_count": 21,
   "id": "243acc28-f615-45a5-a4e3-04e864289478",
   "metadata": {},
   "outputs": [],
   "source": [
    "import pandas as pd\n",
    "import numpy as np\n",
    "from sklearn.feature_extraction.text import TfidfVectorizer\n",
    "from sklearn.preprocessing import OneHotEncoder, StandardScaler\n",
    "\n",
    "class Vectorization2:\n",
    "    def __init__(self, config=None):\n",
    "        \"\"\"\n",
    "        Initialize the Vectorization class.\n",
    "        \n",
    "        :param config: A dictionary containing configuration options like max_features for TF-IDF.\n",
    "        \"\"\"\n",
    "        self.config = config if config else {}\n",
    "        self.vectorized_data = None\n",
    "        self.feature_names = []\n",
    "\n",
    "    def load_data(self, filepath):\n",
    "        \"\"\"\n",
    "        Load a CSV file into a Pandas DataFrame.\n",
    "        \n",
    "        :param filepath: Path to the CSV file.\n",
    "        \"\"\"\n",
    "        self.df = pd.read_csv(filepath)\n",
    "\n",
    "    def vectorize_text(self, column):\n",
    "        \"\"\"\n",
    "        Vectorize text data using TF-IDF and append to the vectorized dataset.\n",
    "        \n",
    "        :param column: Column name in the DataFrame to vectorize.\n",
    "        \"\"\"\n",
    "        tfidf = TfidfVectorizer(max_features=self.config.get(\"max_features\", 100))\n",
    "        encoded = tfidf.fit_transform(self.df[column].fillna(\"\"))\n",
    "        self._append_to_vectorized_data(encoded.toarray(), tfidf.get_feature_names_out())\n",
    "\n",
    "    def vectorize_categorical(self, column):\n",
    "        \"\"\"\n",
    "        One-hot encode categorical data and append to the vectorized dataset.\n",
    "        \n",
    "        :param column: Column name in the DataFrame to encode.\n",
    "        \"\"\"\n",
    "        encoder = OneHotEncoder(sparse_output=False)\n",
    "        encoded = encoder.fit_transform(self.df[[column]].fillna(\"Unknown\"))\n",
    "        self._append_to_vectorized_data(encoded, encoder.get_feature_names_out([column]))\n",
    "\n",
    "    def scale_numeric(self, column):\n",
    "        \"\"\"\n",
    "        Scale numeric data and append to the vectorized dataset.\n",
    "        \n",
    "        :param column: Column name in the DataFrame to scale.\n",
    "        \"\"\"\n",
    "        scaler = StandardScaler()\n",
    "        encoded = scaler.fit_transform(self.df[[column]].fillna(0))\n",
    "        self._append_to_vectorized_data(encoded, [column])\n",
    "\n",
    "    def _append_to_vectorized_data(self, data, feature_names):\n",
    "        \"\"\"\n",
    "        Helper method to append new features to the vectorized data.\n",
    "        \n",
    "        :param data: NumPy array of the new data.\n",
    "        :param feature_names: List of feature names for the new data.\n",
    "        \"\"\"\n",
    "        if self.vectorized_data is None:\n",
    "            self.vectorized_data = data\n",
    "        else:\n",
    "            self.vectorized_data = np.hstack((self.vectorized_data, data))\n",
    "        self.feature_names.extend(feature_names)\n",
    "\n",
    "    def get_vectorized_data(self):\n",
    "        \"\"\"\n",
    "        Retrieve the final vectorized data.\n",
    "        \n",
    "        :return: NumPy array of vectorized data.\n",
    "        \"\"\"\n",
    "        return self.vectorized_data\n",
    "\n",
    "    def get_feature_names(self):\n",
    "        \"\"\"\n",
    "        Retrieve the feature names for the vectorized data.\n",
    "        \n",
    "        :return: List of feature names.\n",
    "        \"\"\"\n",
    "        return self.feature_names\n"
   ]
  },
  {
   "cell_type": "code",
   "execution_count": 22,
   "id": "b3ad7255-ee05-46a9-986e-a9965bb452c2",
   "metadata": {},
   "outputs": [
    {
     "ename": "NameError",
     "evalue": "name 'vectorization' is not defined",
     "output_type": "error",
     "traceback": [
      "\u001b[0;31m---------------------------------------------------------------------------\u001b[0m",
      "\u001b[0;31mNameError\u001b[0m                                 Traceback (most recent call last)",
      "Cell \u001b[0;32mIn[22], line 1\u001b[0m\n\u001b[0;32m----> 1\u001b[0m \u001b[43mvectorization\u001b[49m\u001b[38;5;241m.\u001b[39mshape\n",
      "\u001b[0;31mNameError\u001b[0m: name 'vectorization' is not defined"
     ]
    }
   ],
   "source": [
    "vectorization.shape"
   ]
  },
  {
   "cell_type": "code",
   "execution_count": 24,
   "id": "71f6c882-e124-4dfe-8e3f-5ddf41f7f0a4",
   "metadata": {},
   "outputs": [
    {
     "name": "stdout",
     "output_type": "stream",
     "text": [
      "Feature Names: ['1984', 'alchemist', 'and', 'catcher', 'dick', 'dune', 'gatsby', 'great', 'harry', 'hobbit', 'in', 'kill', 'moby', 'mockingbird', 'potter', 'prejudice', 'pride', 'rye', 'sorcerer', 'stone', 'the', 'to', 'austen', 'coelho', 'fitzgerald', 'frank', 'george', 'harper', 'herbert', 'herman', 'jane', 'lee', 'melville', 'orwell', 'paulo', 'rowling', 'salinger', 'scott', 'tolkien', 'Genres_Fiction|Classic', 'Genres_Fiction|Classic|Historical', 'Genres_Fiction|Dystopian|Political', 'Genres_Fiction|Fantasy', 'Genres_Fiction|Fantasy|Young Adult', 'Genres_Fiction|Philosophical', 'Genres_Fiction|Romance|Classic', 'Genres_Fiction|Sci-Fi']\n",
      "Vectorized Data Shape: (10, 47)\n",
      "Sample Vectorized Data: [[0.         0.         0.         0.47616387 0.         0.\n",
      "  0.         0.         0.         0.         0.47616387 0.\n",
      "  0.         0.         0.         0.         0.         0.47616387\n",
      "  0.         0.         0.56551207 0.         0.         0.\n",
      "  0.         0.         0.         0.         0.         0.\n",
      "  0.         0.         0.         0.         0.         0.\n",
      "  1.         0.         0.         1.         0.         0.\n",
      "  0.         0.         0.         0.         0.        ]\n",
      " [0.         0.         0.         0.         0.         0.\n",
      "  0.         0.         0.         0.         0.         0.57735027\n",
      "  0.         0.57735027 0.         0.         0.         0.\n",
      "  0.         0.         0.         0.57735027 0.         0.\n",
      "  0.         0.         0.         0.70710678 0.         0.\n",
      "  0.         0.70710678 0.         0.         0.         0.\n",
      "  0.         0.         0.         0.         1.         0.\n",
      "  0.         0.         0.         0.         0.        ]]\n"
     ]
    }
   ],
   "source": [
    "from src.vectorization import Vectorization\n",
    "\n",
    "# Define configuration\n",
    "config = {\"max_features\": 500}\n",
    "\n",
    "# Initialize the vectorization class\n",
    "vectorizer = Vectorization2(config)\n",
    "\n",
    "# Load data\n",
    "vectorizer.load_data('./data/books.csv')\n",
    "\n",
    "# Vectorize relevant columns\n",
    "vectorizer.vectorize_text(\"Title\")           # Vectorize book titles\n",
    "vectorizer.vectorize_text(\"Author\")          # Vectorize author names\n",
    "vectorizer.vectorize_categorical(\"Genres\")  # One-hot encode genres\n",
    "\n",
    "# Get the vectorized dataset and feature names\n",
    "X = vectorizer.get_vectorized_data()\n",
    "feature_names = vectorizer.get_feature_names()\n",
    "\n",
    "# Print the result\n",
    "print(\"Feature Names:\", feature_names)\n",
    "print(\"Vectorized Data Shape:\", X.shape)\n",
    "print(\"Sample Vectorized Data:\", X[:2])\n"
   ]
  },
  {
   "cell_type": "code",
   "execution_count": 30,
   "id": "9b38f609-acf3-4c3a-862b-747822ff4b0a",
   "metadata": {},
   "outputs": [
    {
     "name": "stdout",
     "output_type": "stream",
     "text": [
      "Sample Vectorized Data: (47,)\n"
     ]
    }
   ],
   "source": [
    "print(\"Sample Vectorized Data:\", X[1].shape)\n",
    "#To do\n"
   ]
  },
  {
   "cell_type": "code",
   "execution_count": null,
   "id": "81563ac5-2bc0-44d0-b6cd-e5b375471d25",
   "metadata": {},
   "outputs": [],
   "source": []
  }
 ],
 "metadata": {
  "kernelspec": {
   "display_name": "python-dev",
   "language": "python",
   "name": "python-dev"
  },
  "language_info": {
   "codemirror_mode": {
    "name": "ipython",
    "version": 3
   },
   "file_extension": ".py",
   "mimetype": "text/x-python",
   "name": "python",
   "nbconvert_exporter": "python",
   "pygments_lexer": "ipython3",
   "version": "3.11.6"
  }
 },
 "nbformat": 4,
 "nbformat_minor": 5
}
